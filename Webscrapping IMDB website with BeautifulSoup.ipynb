{
 "cells": [
  {
   "cell_type": "markdown",
   "metadata": {},
   "source": [
    "## Background\n",
    "\n",
    "For this project, we are going to explore and analyse some of the most popular films that were released in 2021 and to do that, we will be using BeautifulSoup to extract the data from IMDB webpage. The titles were sorted by popularity ascending (from the most to the least popular). Note that the page contains 50 pages with 590,072 film titles but for the purpose of this project, we are only going to extract the first page of it. The page itself can accessed in [here](https://www.imdb.com/search/title/?release_date=2021-01-01,2021-12-31).\n",
    "\n",
    "As you can see from the screenshot below, for every film title, several other informations such as the duration, genre, metascore rating and number of votes received were also provided. Later on, we will take four kinds of data from each film (title, IMDB score, metascore, total votes) and to have a quick analysis of our dataset. So, let's get straight to it!"
   ]
  },
  {
   "cell_type": "markdown",
   "metadata": {},
   "source": [
    "!['imdb screenshot'](imdb.png)"
   ]
  },
  {
   "cell_type": "markdown",
   "metadata": {},
   "source": [
    "Requesting the Data and Creating a BeautifulSoup. Let's begin with requesting the web from the site with `get` method."
   ]
  },
  {
   "cell_type": "markdown",
   "metadata": {},
   "source": [
    "### 1. Import and read file"
   ]
  },
  {
   "cell_type": "code",
   "execution_count": 1,
   "metadata": {},
   "outputs": [
    {
     "data": {
      "text/plain": [
       "<Response [200]>"
      ]
     },
     "execution_count": 1,
     "metadata": {},
     "output_type": "execute_result"
    }
   ],
   "source": [
    "import requests\n",
    "\n",
    "url = requests.get(\"https://www.imdb.com/search/title/?release_date=2021-01-01,2021-12-31\")\n",
    "url"
   ]
  },
  {
   "cell_type": "markdown",
   "metadata": {},
   "source": [
    "To visualize what exactly you get from the `request.get`, we can use .content to see what we exactly get, in here i slice it so it won't make our screen full of the html we get from the page. You can delete the slicing if you want to see what we fully get."
   ]
  },
  {
   "cell_type": "code",
   "execution_count": 2,
   "metadata": {
    "scrolled": false
   },
   "outputs": [
    {
     "data": {
      "text/plain": [
       "b'\\n\\n<!DOCTYPE html>\\n<html\\n    xmlns:og=\"http://ogp.me/ns#\"\\n    xmlns:fb=\"http://www.facebook.com/2008/fbml\">\\n    <head>\\n         \\n\\n        <meta charset=\"utf-8\">\\n        <meta http-equiv=\"X-UA-Compatible\" content=\"IE=edge\">\\n\\n\\n\\n\\n        <script type=\"text/javascript\">var IMDbTimer={starttime: new Date().getTime(),pt:\\'java\\'};</script>\\n\\n<script>\\n    if (typeof uet == \\'function\\') {\\n      uet(\"bb\", \"LoadTitle\", {wb: 1});\\n    }\\n</script>\\n  <script>(function(t){ (t.events = t.events || {})[\"csm_head_pre_'"
      ]
     },
     "execution_count": 2,
     "metadata": {},
     "output_type": "execute_result"
    }
   ],
   "source": [
    "url.content[:500]"
   ]
  },
  {
   "cell_type": "markdown",
   "metadata": {},
   "source": [
    "As we can see we get a very unstructured and complex html, which actually contains the codes needed to show the webpages on your web browser. But we as human still confused what and where we can use that piece of code, so here where we use the beautifulsoup. Beautiful soup class will result a beautifulsoup object. Beautiful Soup transforms a complex HTML document into a complex tree of Python objects. \n",
    "\n",
    "Let's make Beautiful soup object and feel free to explore the object here."
   ]
  },
  {
   "cell_type": "markdown",
   "metadata": {},
   "source": [
    "### 2. Creating a BeautifulSoup object"
   ]
  },
  {
   "cell_type": "code",
   "execution_count": 3,
   "metadata": {},
   "outputs": [],
   "source": [
    "from bs4 import BeautifulSoup \n",
    "\n",
    "soup = BeautifulSoup(url.content,\"html.parser\")"
   ]
  },
  {
   "cell_type": "markdown",
   "metadata": {},
   "source": [
    "Finding the right key to extract."
   ]
  },
  {
   "cell_type": "code",
   "execution_count": 4,
   "metadata": {
    "scrolled": true
   },
   "outputs": [
    {
     "name": "stdout",
     "output_type": "stream",
     "text": [
      "<div class=\"lister list detail sub-list\">\n",
      " <div class=\"lister-list\">\n",
      "  <div class=\"lister-item mode-advanced\">\n",
      "   <div class=\"lister-top-right\">\n",
      "    <div class=\"ribbonize\" data-caller=\"filmosearch\" data-tconst=\"tt13668894\">\n",
      "    </div>\n",
      "   </div>\n",
      "   <div class=\"lister-item-image float-left\">\n",
      "    <a href=\"/title/tt13668894/\">\n",
      "     <img alt=\"The Book of Boba Fett\" class=\"loadlate\" data-tconst=\"tt13668894\" height=\"98\" loadlate=\"https://m.media-amazon.com/images/M/MV5BZjllZjE1MWEtYTJhZC00MWIyLTliMjEtY\n"
     ]
    }
   ],
   "source": [
    "table = soup.find('div', attrs={'class':'lister list detail sub-list'})\n",
    "print(table.prettify()[:500])"
   ]
  },
  {
   "cell_type": "code",
   "execution_count": 5,
   "metadata": {},
   "outputs": [
    {
     "data": {
      "text/plain": [
       "50"
      ]
     },
     "execution_count": 5,
     "metadata": {},
     "output_type": "execute_result"
    }
   ],
   "source": [
    "row = table.find_all('div', attrs={'class':'lister-item-content'})\n",
    "row_length = len(row)\n",
    "row_length"
   ]
  },
  {
   "cell_type": "markdown",
   "metadata": {},
   "source": [
    "These are the keys for every informations that needed to be extracted from our `row` object."
   ]
  },
  {
   "cell_type": "code",
   "execution_count": 42,
   "metadata": {},
   "outputs": [
    {
     "data": {
      "text/plain": [
       "[<p class=\"sort-num_votes-visible\">\n",
       " <span class=\"text-muted\">Votes:</span>\n",
       " <span data-value=\"85904\" name=\"nv\">85,904</span>\n",
       " </p>,\n",
       " <p class=\"sort-num_votes-visible\">\n",
       " <span class=\"text-muted\">Votes:</span>\n",
       " <span data-value=\"62285\" name=\"nv\">62,285</span>\n",
       " </p>,\n",
       " <p class=\"sort-num_votes-visible\">\n",
       " <span class=\"text-muted\">Votes:</span>\n",
       " <span data-value=\"113817\" name=\"nv\">113,817</span>\n",
       " </p>]"
      ]
     },
     "execution_count": 42,
     "metadata": {},
     "output_type": "execute_result"
    }
   ],
   "source": [
    "# find title\n",
    "table.find_all('a')\n",
    "\n",
    "# find rating\n",
    "table.find_all('strong')\n",
    "\n",
    "# find metascore\n",
    "table.find_all('div', attrs={'class':'inline-block ratings-metascore'})\n",
    "\n",
    "# find votes\n",
    "table.find_all('p', attrs={'class':'sort-num_votes-visible'})[:3]"
   ]
  },
  {
   "cell_type": "markdown",
   "metadata": {},
   "source": [
    "### 3. Extract the necessary informations"
   ]
  },
  {
   "cell_type": "code",
   "execution_count": 13,
   "metadata": {},
   "outputs": [
    {
     "data": {
      "text/plain": [
       "[('The Book of Boba Fett', '7.5', '91', '85,904'),\n",
       " ('Nightmare Alley', '7.2', '70', '62,285'),\n",
       " ('The Power of the Dog', '6.9', '89', '113,817'),\n",
       " (\"The King's Man\", '6.4', '44', '59,590'),\n",
       " ('1883', '9.0', '44', '31,045'),\n",
       " ('Encanto', '7.3', '75', '147,388'),\n",
       " ('Spider-Man: No Way Home', '8.7', '71', '468,827'),\n",
       " ('House of Gucci', '6.7', '59', '75,658'),\n",
       " (\"Don't Look Up\", '7.2', '49', '437,339'),\n",
       " ('Licorice Pizza', '7.8', '90', '32,999')]"
      ]
     },
     "execution_count": 13,
     "metadata": {},
     "output_type": "execute_result"
    }
   ],
   "source": [
    "temp = [] #initiate a tuple\n",
    "\n",
    "for i in row:\n",
    "    \n",
    "    title = i.find_all('a')\n",
    "    title = title[0].text\n",
    "    \n",
    "    for rate in i.find_all('strong'):\n",
    "        rating = rate.text\n",
    "    \n",
    "    for meta in i.find_all('div', attrs={'class':'inline-block ratings-metascore'}):\n",
    "        metascore = meta.find_all('span')\n",
    "        metascore = metascore[0].text.strip() # .strip() to remove all white spaces and \\n from your list\n",
    "    \n",
    "    for number in i.find_all('p', attrs={'class':'sort-num_votes-visible'}):\n",
    "        votes = number.find_all('span', attrs={'name':'nv'})\n",
    "        votes = votes[0].text\n",
    "    \n",
    "    temp.append((title, rating, metascore, votes))\n",
    "\n",
    "temp[:10]"
   ]
  },
  {
   "cell_type": "code",
   "execution_count": 20,
   "metadata": {
    "scrolled": false
   },
   "outputs": [
    {
     "data": {
      "text/html": [
       "<div>\n",
       "<style scoped>\n",
       "    .dataframe tbody tr th:only-of-type {\n",
       "        vertical-align: middle;\n",
       "    }\n",
       "\n",
       "    .dataframe tbody tr th {\n",
       "        vertical-align: top;\n",
       "    }\n",
       "\n",
       "    .dataframe thead th {\n",
       "        text-align: right;\n",
       "    }\n",
       "</style>\n",
       "<table border=\"1\" class=\"dataframe\">\n",
       "  <thead>\n",
       "    <tr style=\"text-align: right;\">\n",
       "      <th></th>\n",
       "      <th>0</th>\n",
       "      <th>1</th>\n",
       "      <th>2</th>\n",
       "      <th>3</th>\n",
       "    </tr>\n",
       "  </thead>\n",
       "  <tbody>\n",
       "    <tr>\n",
       "      <th>0</th>\n",
       "      <td>The Book of Boba Fett</td>\n",
       "      <td>7.5</td>\n",
       "      <td>91</td>\n",
       "      <td>85,904</td>\n",
       "    </tr>\n",
       "    <tr>\n",
       "      <th>1</th>\n",
       "      <td>Nightmare Alley</td>\n",
       "      <td>7.2</td>\n",
       "      <td>70</td>\n",
       "      <td>62,285</td>\n",
       "    </tr>\n",
       "    <tr>\n",
       "      <th>2</th>\n",
       "      <td>The Power of the Dog</td>\n",
       "      <td>6.9</td>\n",
       "      <td>89</td>\n",
       "      <td>113,817</td>\n",
       "    </tr>\n",
       "    <tr>\n",
       "      <th>3</th>\n",
       "      <td>The King's Man</td>\n",
       "      <td>6.4</td>\n",
       "      <td>44</td>\n",
       "      <td>59,590</td>\n",
       "    </tr>\n",
       "    <tr>\n",
       "      <th>4</th>\n",
       "      <td>1883</td>\n",
       "      <td>9.0</td>\n",
       "      <td>44</td>\n",
       "      <td>31,045</td>\n",
       "    </tr>\n",
       "    <tr>\n",
       "      <th>5</th>\n",
       "      <td>Encanto</td>\n",
       "      <td>7.3</td>\n",
       "      <td>75</td>\n",
       "      <td>147,388</td>\n",
       "    </tr>\n",
       "    <tr>\n",
       "      <th>6</th>\n",
       "      <td>Spider-Man: No Way Home</td>\n",
       "      <td>8.7</td>\n",
       "      <td>71</td>\n",
       "      <td>468,827</td>\n",
       "    </tr>\n",
       "    <tr>\n",
       "      <th>7</th>\n",
       "      <td>House of Gucci</td>\n",
       "      <td>6.7</td>\n",
       "      <td>59</td>\n",
       "      <td>75,658</td>\n",
       "    </tr>\n",
       "    <tr>\n",
       "      <th>8</th>\n",
       "      <td>Don't Look Up</td>\n",
       "      <td>7.2</td>\n",
       "      <td>49</td>\n",
       "      <td>437,339</td>\n",
       "    </tr>\n",
       "    <tr>\n",
       "      <th>9</th>\n",
       "      <td>Licorice Pizza</td>\n",
       "      <td>7.8</td>\n",
       "      <td>90</td>\n",
       "      <td>32,999</td>\n",
       "    </tr>\n",
       "  </tbody>\n",
       "</table>\n",
       "</div>"
      ],
      "text/plain": [
       "                         0    1   2        3\n",
       "0    The Book of Boba Fett  7.5  91   85,904\n",
       "1          Nightmare Alley  7.2  70   62,285\n",
       "2     The Power of the Dog  6.9  89  113,817\n",
       "3           The King's Man  6.4  44   59,590\n",
       "4                     1883  9.0  44   31,045\n",
       "5                  Encanto  7.3  75  147,388\n",
       "6  Spider-Man: No Way Home  8.7  71  468,827\n",
       "7           House of Gucci  6.7  59   75,658\n",
       "8            Don't Look Up  7.2  49  437,339\n",
       "9           Licorice Pizza  7.8  90   32,999"
      ]
     },
     "execution_count": 20,
     "metadata": {},
     "output_type": "execute_result"
    }
   ],
   "source": [
    "import pandas as pd\n",
    "\n",
    "df = pd.DataFrame(temp)\n",
    "df.head(10)"
   ]
  },
  {
   "cell_type": "code",
   "execution_count": 21,
   "metadata": {
    "scrolled": true
   },
   "outputs": [
    {
     "data": {
      "text/plain": [
       "(50, 4)"
      ]
     },
     "execution_count": 21,
     "metadata": {},
     "output_type": "execute_result"
    }
   ],
   "source": [
    "df.shape"
   ]
  },
  {
   "cell_type": "markdown",
   "metadata": {},
   "source": [
    "We have a total of 50 films in our dataframe."
   ]
  },
  {
   "cell_type": "code",
   "execution_count": 22,
   "metadata": {
    "scrolled": true
   },
   "outputs": [
    {
     "data": {
      "text/html": [
       "<div>\n",
       "<style scoped>\n",
       "    .dataframe tbody tr th:only-of-type {\n",
       "        vertical-align: middle;\n",
       "    }\n",
       "\n",
       "    .dataframe tbody tr th {\n",
       "        vertical-align: top;\n",
       "    }\n",
       "\n",
       "    .dataframe thead th {\n",
       "        text-align: right;\n",
       "    }\n",
       "</style>\n",
       "<table border=\"1\" class=\"dataframe\">\n",
       "  <thead>\n",
       "    <tr style=\"text-align: right;\">\n",
       "      <th></th>\n",
       "      <th>title</th>\n",
       "      <th>imdb rating</th>\n",
       "      <th>metascore</th>\n",
       "      <th>votes</th>\n",
       "    </tr>\n",
       "  </thead>\n",
       "  <tbody>\n",
       "    <tr>\n",
       "      <th>0</th>\n",
       "      <td>The Book of Boba Fett</td>\n",
       "      <td>7.5</td>\n",
       "      <td>91</td>\n",
       "      <td>85,904</td>\n",
       "    </tr>\n",
       "    <tr>\n",
       "      <th>1</th>\n",
       "      <td>Nightmare Alley</td>\n",
       "      <td>7.2</td>\n",
       "      <td>70</td>\n",
       "      <td>62,285</td>\n",
       "    </tr>\n",
       "    <tr>\n",
       "      <th>2</th>\n",
       "      <td>The Power of the Dog</td>\n",
       "      <td>6.9</td>\n",
       "      <td>89</td>\n",
       "      <td>113,817</td>\n",
       "    </tr>\n",
       "    <tr>\n",
       "      <th>3</th>\n",
       "      <td>The King's Man</td>\n",
       "      <td>6.4</td>\n",
       "      <td>44</td>\n",
       "      <td>59,590</td>\n",
       "    </tr>\n",
       "    <tr>\n",
       "      <th>4</th>\n",
       "      <td>1883</td>\n",
       "      <td>9.0</td>\n",
       "      <td>44</td>\n",
       "      <td>31,045</td>\n",
       "    </tr>\n",
       "  </tbody>\n",
       "</table>\n",
       "</div>"
      ],
      "text/plain": [
       "                   title imdb rating metascore    votes\n",
       "0  The Book of Boba Fett         7.5        91   85,904\n",
       "1        Nightmare Alley         7.2        70   62,285\n",
       "2   The Power of the Dog         6.9        89  113,817\n",
       "3         The King's Man         6.4        44   59,590\n",
       "4                   1883         9.0        44   31,045"
      ]
     },
     "execution_count": 22,
     "metadata": {},
     "output_type": "execute_result"
    }
   ],
   "source": [
    "df = df.rename(columns={0:'title', 1:'imdb rating', 2:'metascore', 3:'votes'})\n",
    "df.head(5)"
   ]
  },
  {
   "cell_type": "markdown",
   "metadata": {},
   "source": [
    "Columns description:\n",
    "\n",
    "- `title` = Title's name for every films released between 2021-01-01 and 2021-12-31\n",
    "\n",
    "- `imdb rating` = (1-10) IMDb ratings that are based on the votes of the website's registered users. Individual votes are then aggregated and summarized as a single IMDb rating, visible on the title's main page. Users can update their votes as often as they'd like, but any new vote on the same title will overwrite the previous one, so it is one vote per title per user.\n",
    "\n",
    "- `metascore` = (0-100) A weighted average of many reviews coming from reputed critics. The Metacritic team reads the reviews and assigns each a 0–100 score, which is then given a weight, mainly based on the review's quality and source. Higher scores indicating better overall reviews.\n",
    "\n",
    "- `votes` = Number of votes received by each films"
   ]
  },
  {
   "cell_type": "markdown",
   "metadata": {},
   "source": [
    "How metascore rating system works:"
   ]
  },
  {
   "cell_type": "markdown",
   "metadata": {},
   "source": [
    "!['metascore'](imdb_metascore2.png)"
   ]
  },
  {
   "cell_type": "markdown",
   "metadata": {},
   "source": [
    "For more informations on how the rating system works on IMDB website, you can read the full FAQ here: https://help.imdb.com/article/imdb/track-movies-tv/ratings-faq/G67Y87TFYYP6TWAV#"
   ]
  },
  {
   "cell_type": "markdown",
   "metadata": {},
   "source": [
    "Full documentation on metascore and how the ratings works can be seen in this page: https://www.metacritic.com/about-metascores"
   ]
  },
  {
   "cell_type": "code",
   "execution_count": 23,
   "metadata": {
    "scrolled": true
   },
   "outputs": [
    {
     "data": {
      "text/plain": [
       "title          object\n",
       "imdb rating    object\n",
       "metascore      object\n",
       "votes          object\n",
       "dtype: object"
      ]
     },
     "execution_count": 23,
     "metadata": {},
     "output_type": "execute_result"
    }
   ],
   "source": [
    "df.dtypes"
   ]
  },
  {
   "cell_type": "code",
   "execution_count": 24,
   "metadata": {},
   "outputs": [
    {
     "data": {
      "text/plain": [
       "title           object\n",
       "imdb rating    float64\n",
       "metascore        int64\n",
       "votes            int64\n",
       "dtype: object"
      ]
     },
     "execution_count": 24,
     "metadata": {},
     "output_type": "execute_result"
    }
   ],
   "source": [
    "df['imdb rating'] = df['imdb rating'].astype('float64')\n",
    "df['metascore'] = df['metascore'].astype('int64')\n",
    "df['votes'] = df['votes'].str.replace(',','').astype('int64')\n",
    "\n",
    "df.dtypes"
   ]
  },
  {
   "cell_type": "markdown",
   "metadata": {},
   "source": [
    "## EDA"
   ]
  },
  {
   "cell_type": "code",
   "execution_count": 25,
   "metadata": {
    "scrolled": true
   },
   "outputs": [
    {
     "data": {
      "text/html": [
       "<div>\n",
       "<style scoped>\n",
       "    .dataframe tbody tr th:only-of-type {\n",
       "        vertical-align: middle;\n",
       "    }\n",
       "\n",
       "    .dataframe tbody tr th {\n",
       "        vertical-align: top;\n",
       "    }\n",
       "\n",
       "    .dataframe thead th {\n",
       "        text-align: right;\n",
       "    }\n",
       "</style>\n",
       "<table border=\"1\" class=\"dataframe\">\n",
       "  <thead>\n",
       "    <tr style=\"text-align: right;\">\n",
       "      <th></th>\n",
       "      <th>imdb rating</th>\n",
       "      <th>metascore</th>\n",
       "      <th>votes</th>\n",
       "    </tr>\n",
       "  </thead>\n",
       "  <tbody>\n",
       "    <tr>\n",
       "      <th>count</th>\n",
       "      <td>50.000000</td>\n",
       "      <td>50.000000</td>\n",
       "      <td>50.000000</td>\n",
       "    </tr>\n",
       "    <tr>\n",
       "      <th>mean</th>\n",
       "      <td>7.418000</td>\n",
       "      <td>70.340000</td>\n",
       "      <td>108036.800000</td>\n",
       "    </tr>\n",
       "    <tr>\n",
       "      <th>std</th>\n",
       "      <td>0.725537</td>\n",
       "      <td>14.064879</td>\n",
       "      <td>128939.830275</td>\n",
       "    </tr>\n",
       "    <tr>\n",
       "      <th>min</th>\n",
       "      <td>5.500000</td>\n",
       "      <td>44.000000</td>\n",
       "      <td>6045.000000</td>\n",
       "    </tr>\n",
       "    <tr>\n",
       "      <th>25%</th>\n",
       "      <td>7.100000</td>\n",
       "      <td>62.000000</td>\n",
       "      <td>27542.000000</td>\n",
       "    </tr>\n",
       "    <tr>\n",
       "      <th>50%</th>\n",
       "      <td>7.300000</td>\n",
       "      <td>72.000000</td>\n",
       "      <td>51565.500000</td>\n",
       "    </tr>\n",
       "    <tr>\n",
       "      <th>75%</th>\n",
       "      <td>7.875000</td>\n",
       "      <td>82.000000</td>\n",
       "      <td>119926.750000</td>\n",
       "    </tr>\n",
       "    <tr>\n",
       "      <th>max</th>\n",
       "      <td>9.100000</td>\n",
       "      <td>91.000000</td>\n",
       "      <td>491260.000000</td>\n",
       "    </tr>\n",
       "  </tbody>\n",
       "</table>\n",
       "</div>"
      ],
      "text/plain": [
       "       imdb rating  metascore          votes\n",
       "count    50.000000  50.000000      50.000000\n",
       "mean      7.418000  70.340000  108036.800000\n",
       "std       0.725537  14.064879  128939.830275\n",
       "min       5.500000  44.000000    6045.000000\n",
       "25%       7.100000  62.000000   27542.000000\n",
       "50%       7.300000  72.000000   51565.500000\n",
       "75%       7.875000  82.000000  119926.750000\n",
       "max       9.100000  91.000000  491260.000000"
      ]
     },
     "execution_count": 25,
     "metadata": {},
     "output_type": "execute_result"
    }
   ],
   "source": [
    "df.describe()"
   ]
  },
  {
   "cell_type": "markdown",
   "metadata": {},
   "source": [
    "From the above summary of our dataframe, we're able to gain a few quick insights into the most popular films released between 2021-01-01 and 2021-12-31 such as:\n",
    "\n",
    "1. Lowest IMDB rating is 5.5, while the highest rating is 9.1 and an average of 7.4 for all films\n",
    "2. The average metascore from all films is 70 which is considered to be \"good\" films by the critics\n",
    "3. 5886 is the lowest number of votes received by a film while the one with the most number of votes counted for 489,938 of a total reviews"
   ]
  },
  {
   "cell_type": "code",
   "execution_count": 26,
   "metadata": {},
   "outputs": [
    {
     "data": {
      "text/html": [
       "<div>\n",
       "<style scoped>\n",
       "    .dataframe tbody tr th:only-of-type {\n",
       "        vertical-align: middle;\n",
       "    }\n",
       "\n",
       "    .dataframe tbody tr th {\n",
       "        vertical-align: top;\n",
       "    }\n",
       "\n",
       "    .dataframe thead th {\n",
       "        text-align: right;\n",
       "    }\n",
       "</style>\n",
       "<table border=\"1\" class=\"dataframe\">\n",
       "  <thead>\n",
       "    <tr style=\"text-align: right;\">\n",
       "      <th></th>\n",
       "      <th>imdb rating</th>\n",
       "      <th>votes</th>\n",
       "    </tr>\n",
       "    <tr>\n",
       "      <th>title</th>\n",
       "      <th></th>\n",
       "      <th></th>\n",
       "    </tr>\n",
       "  </thead>\n",
       "  <tbody>\n",
       "    <tr>\n",
       "      <th>Arcane: League of Legends</th>\n",
       "      <td>9.1</td>\n",
       "      <td>157809</td>\n",
       "    </tr>\n",
       "    <tr>\n",
       "      <th>1883</th>\n",
       "      <td>9.0</td>\n",
       "      <td>31045</td>\n",
       "    </tr>\n",
       "    <tr>\n",
       "      <th>Spider-Man: No Way Home</th>\n",
       "      <td>8.7</td>\n",
       "      <td>468827</td>\n",
       "    </tr>\n",
       "    <tr>\n",
       "      <th>Dopesick</th>\n",
       "      <td>8.7</td>\n",
       "      <td>38925</td>\n",
       "    </tr>\n",
       "    <tr>\n",
       "      <th>Dexter: New Blood</th>\n",
       "      <td>8.3</td>\n",
       "      <td>74073</td>\n",
       "    </tr>\n",
       "  </tbody>\n",
       "</table>\n",
       "</div>"
      ],
      "text/plain": [
       "                           imdb rating   votes\n",
       "title                                         \n",
       "Arcane: League of Legends          9.1  157809\n",
       "1883                               9.0   31045\n",
       "Spider-Man: No Way Home            8.7  468827\n",
       "Dopesick                           8.7   38925\n",
       "Dexter: New Blood                  8.3   74073"
      ]
     },
     "execution_count": 26,
     "metadata": {},
     "output_type": "execute_result"
    }
   ],
   "source": [
    "# top 5 films with the most positive ratings on IMDB\n",
    "\n",
    "imdb = df.groupby(\"title\").sum()[['imdb rating','votes']].sort_values('imdb rating', ascending=False)\n",
    "imdb.head()"
   ]
  },
  {
   "cell_type": "code",
   "execution_count": 27,
   "metadata": {
    "scrolled": true
   },
   "outputs": [
    {
     "data": {
      "text/html": [
       "<div>\n",
       "<style scoped>\n",
       "    .dataframe tbody tr th:only-of-type {\n",
       "        vertical-align: middle;\n",
       "    }\n",
       "\n",
       "    .dataframe tbody tr th {\n",
       "        vertical-align: top;\n",
       "    }\n",
       "\n",
       "    .dataframe thead th {\n",
       "        text-align: right;\n",
       "    }\n",
       "</style>\n",
       "<table border=\"1\" class=\"dataframe\">\n",
       "  <thead>\n",
       "    <tr style=\"text-align: right;\">\n",
       "      <th></th>\n",
       "      <th>metascore</th>\n",
       "    </tr>\n",
       "    <tr>\n",
       "      <th>title</th>\n",
       "      <th></th>\n",
       "    </tr>\n",
       "  </thead>\n",
       "  <tbody>\n",
       "    <tr>\n",
       "      <th>Flugt</th>\n",
       "      <td>91</td>\n",
       "    </tr>\n",
       "    <tr>\n",
       "      <th>Superman &amp; Lois</th>\n",
       "      <td>91</td>\n",
       "    </tr>\n",
       "    <tr>\n",
       "      <th>The Book of Boba Fett</th>\n",
       "      <td>91</td>\n",
       "    </tr>\n",
       "    <tr>\n",
       "      <th>Dopesick</th>\n",
       "      <td>91</td>\n",
       "    </tr>\n",
       "    <tr>\n",
       "      <th>Doraibu mai kâ</th>\n",
       "      <td>91</td>\n",
       "    </tr>\n",
       "    <tr>\n",
       "      <th>Verdens verste menneske</th>\n",
       "      <td>90</td>\n",
       "    </tr>\n",
       "    <tr>\n",
       "      <th>Licorice Pizza</th>\n",
       "      <td>90</td>\n",
       "    </tr>\n",
       "    <tr>\n",
       "      <th>The Power of the Dog</th>\n",
       "      <td>89</td>\n",
       "    </tr>\n",
       "    <tr>\n",
       "      <th>The Tragedy of Macbeth</th>\n",
       "      <td>87</td>\n",
       "    </tr>\n",
       "    <tr>\n",
       "      <th>The Lost Daughter</th>\n",
       "      <td>86</td>\n",
       "    </tr>\n",
       "  </tbody>\n",
       "</table>\n",
       "</div>"
      ],
      "text/plain": [
       "                         metascore\n",
       "title                             \n",
       "Flugt                           91\n",
       "Superman & Lois                 91\n",
       "The Book of Boba Fett           91\n",
       "Dopesick                        91\n",
       "Doraibu mai kâ                  91\n",
       "Verdens verste menneske         90\n",
       "Licorice Pizza                  90\n",
       "The Power of the Dog            89\n",
       "The Tragedy of Macbeth          87\n",
       "The Lost Daughter               86"
      ]
     },
     "execution_count": 27,
     "metadata": {},
     "output_type": "execute_result"
    }
   ],
   "source": [
    "meta = df.groupby(\"title\").sum()[[\"metascore\"]]\n",
    "\n",
    "# top 10 films with the highest metascore\n",
    "meta.sort_values('metascore', ascending=False).head(10)"
   ]
  },
  {
   "cell_type": "markdown",
   "metadata": {},
   "source": [
    "**Question 1:** \"Among those films, how many received a favourable or \"good\" rating from the critics?\""
   ]
  },
  {
   "cell_type": "code",
   "execution_count": 28,
   "metadata": {},
   "outputs": [
    {
     "name": "stdout",
     "output_type": "stream",
     "text": [
      "38\n"
     ]
    }
   ],
   "source": [
    "print(meta[meta[\"metascore\"] > 60].shape[0])"
   ]
  },
  {
   "cell_type": "markdown",
   "metadata": {},
   "source": [
    "38 out of 50 films scored above 60, which means that more than half of the films in our list received a \"good\" ratings from the critics."
   ]
  },
  {
   "cell_type": "markdown",
   "metadata": {},
   "source": [
    "**Question 2:** \"Even though some films garnered a lot of attention from the public, there are some films that unfortunately didn't received a good reviews from the critics. From the 50 most popular films released this year, find out which films received unsatisfactory reviews from the critics\""
   ]
  },
  {
   "cell_type": "code",
   "execution_count": 29,
   "metadata": {
    "scrolled": true
   },
   "outputs": [
    {
     "data": {
      "text/html": [
       "<div>\n",
       "<style scoped>\n",
       "    .dataframe tbody tr th:only-of-type {\n",
       "        vertical-align: middle;\n",
       "    }\n",
       "\n",
       "    .dataframe tbody tr th {\n",
       "        vertical-align: top;\n",
       "    }\n",
       "\n",
       "    .dataframe thead th {\n",
       "        text-align: right;\n",
       "    }\n",
       "</style>\n",
       "<table border=\"1\" class=\"dataframe\">\n",
       "  <thead>\n",
       "    <tr style=\"text-align: right;\">\n",
       "      <th></th>\n",
       "      <th>metascore</th>\n",
       "    </tr>\n",
       "    <tr>\n",
       "      <th>title</th>\n",
       "      <th></th>\n",
       "    </tr>\n",
       "  </thead>\n",
       "  <tbody>\n",
       "    <tr>\n",
       "      <th>1883</th>\n",
       "      <td>44</td>\n",
       "    </tr>\n",
       "    <tr>\n",
       "      <th>The King's Man</th>\n",
       "      <td>44</td>\n",
       "    </tr>\n",
       "    <tr>\n",
       "      <th>Ghostbusters: Afterlife</th>\n",
       "      <td>45</td>\n",
       "    </tr>\n",
       "    <tr>\n",
       "      <th>Don't Look Up</th>\n",
       "      <td>49</td>\n",
       "    </tr>\n",
       "    <tr>\n",
       "      <th>Sing 2</th>\n",
       "      <td>49</td>\n",
       "    </tr>\n",
       "    <tr>\n",
       "      <th>Eternals</th>\n",
       "      <td>52</td>\n",
       "    </tr>\n",
       "    <tr>\n",
       "      <th>Yellowjackets</th>\n",
       "      <td>52</td>\n",
       "    </tr>\n",
       "    <tr>\n",
       "      <th>American Underdog</th>\n",
       "      <td>53</td>\n",
       "    </tr>\n",
       "    <tr>\n",
       "      <th>Munich: The Edge of War</th>\n",
       "      <td>53</td>\n",
       "    </tr>\n",
       "    <tr>\n",
       "      <th>The Eyes of Tammy Faye</th>\n",
       "      <td>55</td>\n",
       "    </tr>\n",
       "    <tr>\n",
       "      <th>House of Gucci</th>\n",
       "      <td>59</td>\n",
       "    </tr>\n",
       "  </tbody>\n",
       "</table>\n",
       "</div>"
      ],
      "text/plain": [
       "                         metascore\n",
       "title                             \n",
       "1883                            44\n",
       "The King's Man                  44\n",
       "Ghostbusters: Afterlife         45\n",
       "Don't Look Up                   49\n",
       "Sing 2                          49\n",
       "Eternals                        52\n",
       "Yellowjackets                   52\n",
       "American Underdog               53\n",
       "Munich: The Edge of War         53\n",
       "The Eyes of Tammy Faye          55\n",
       "House of Gucci                  59"
      ]
     },
     "execution_count": 29,
     "metadata": {},
     "output_type": "execute_result"
    }
   ],
   "source": [
    "meta[meta['metascore'] < 60].sort_values('metascore')"
   ]
  },
  {
   "cell_type": "markdown",
   "metadata": {},
   "source": [
    "**Question 3**: \"Find out top 7 films that received the highest number of votes from IMDB registered users\""
   ]
  },
  {
   "cell_type": "code",
   "execution_count": 30,
   "metadata": {
    "scrolled": false
   },
   "outputs": [
    {
     "data": {
      "text/html": [
       "<div>\n",
       "<style scoped>\n",
       "    .dataframe tbody tr th:only-of-type {\n",
       "        vertical-align: middle;\n",
       "    }\n",
       "\n",
       "    .dataframe tbody tr th {\n",
       "        vertical-align: top;\n",
       "    }\n",
       "\n",
       "    .dataframe thead th {\n",
       "        text-align: right;\n",
       "    }\n",
       "</style>\n",
       "<table border=\"1\" class=\"dataframe\">\n",
       "  <thead>\n",
       "    <tr style=\"text-align: right;\">\n",
       "      <th></th>\n",
       "      <th>imdb rating</th>\n",
       "      <th>votes</th>\n",
       "    </tr>\n",
       "    <tr>\n",
       "      <th>title</th>\n",
       "      <th></th>\n",
       "      <th></th>\n",
       "    </tr>\n",
       "  </thead>\n",
       "  <tbody>\n",
       "    <tr>\n",
       "      <th>Dune: Part One</th>\n",
       "      <td>8.1</td>\n",
       "      <td>491260</td>\n",
       "    </tr>\n",
       "    <tr>\n",
       "      <th>Spider-Man: No Way Home</th>\n",
       "      <td>8.7</td>\n",
       "      <td>468827</td>\n",
       "    </tr>\n",
       "    <tr>\n",
       "      <th>Don't Look Up</th>\n",
       "      <td>7.2</td>\n",
       "      <td>437339</td>\n",
       "    </tr>\n",
       "    <tr>\n",
       "      <th>Ojing-eo geim</th>\n",
       "      <td>8.0</td>\n",
       "      <td>400761</td>\n",
       "    </tr>\n",
       "    <tr>\n",
       "      <th>No Time to Die</th>\n",
       "      <td>7.3</td>\n",
       "      <td>315552</td>\n",
       "    </tr>\n",
       "    <tr>\n",
       "      <th>The Suicide Squad</th>\n",
       "      <td>7.2</td>\n",
       "      <td>304819</td>\n",
       "    </tr>\n",
       "    <tr>\n",
       "      <th>Free Guy</th>\n",
       "      <td>7.2</td>\n",
       "      <td>283320</td>\n",
       "    </tr>\n",
       "  </tbody>\n",
       "</table>\n",
       "</div>"
      ],
      "text/plain": [
       "                         imdb rating   votes\n",
       "title                                       \n",
       "Dune: Part One                   8.1  491260\n",
       "Spider-Man: No Way Home          8.7  468827\n",
       "Don't Look Up                    7.2  437339\n",
       "Ojing-eo geim                    8.0  400761\n",
       "No Time to Die                   7.3  315552\n",
       "The Suicide Squad                7.2  304819\n",
       "Free Guy                         7.2  283320"
      ]
     },
     "execution_count": 30,
     "metadata": {},
     "output_type": "execute_result"
    }
   ],
   "source": [
    "imdb.sort_values('votes', ascending=False).head(7)"
   ]
  },
  {
   "cell_type": "code",
   "execution_count": 31,
   "metadata": {
    "scrolled": true
   },
   "outputs": [
    {
     "data": {
      "text/plain": [
       "<AxesSubplot:>"
      ]
     },
     "execution_count": 31,
     "metadata": {},
     "output_type": "execute_result"
    },
    {
     "data": {
      "image/png": "[encoded data removed]",
      "text/plain": [
       "<Figure size 432x288 with 1 Axes>"
      ]
     },
     "metadata": {
      "needs_background": "light"
     },
     "output_type": "display_data"
    }
   ],
   "source": [
    "# to check the five number summary from our votes column\n",
    "imdb['votes'].plot(kind='box')"
   ]
  },
  {
   "cell_type": "code",
   "execution_count": 32,
   "metadata": {},
   "outputs": [
    {
     "name": "stdout",
     "output_type": "stream",
     "text": [
      "9\n",
      "                         imdb rating   votes\n",
      "title                                       \n",
      "Spider-Man: No Way Home          8.7  468827\n",
      "Dune: Part One                   8.1  491260\n",
      "Ojing-eo geim                    8.0  400761\n",
      "Nobody                           7.4  205697\n",
      "No Time to Die                   7.3  315552\n",
      "Don't Look Up                    7.2  437339\n",
      "Free Guy                         7.2  283320\n",
      "The Suicide Squad                7.2  304819\n",
      "Eternals                         6.4  258137\n"
     ]
    }
   ],
   "source": [
    "#to check how many and which films that are considered to be outliers\n",
    "print(imdb[imdb['votes'] > 200000].shape[0])\n",
    "print(imdb[imdb['votes'] > 200000])"
   ]
  },
  {
   "cell_type": "markdown",
   "metadata": {},
   "source": [
    "There are 9 film outliers with total of votes more than 200,000."
   ]
  },
  {
   "cell_type": "markdown",
   "metadata": {},
   "source": [
    "Next, we'll check films that met the following conditions:\n",
    "\n",
    "1. IMDB Rating of more than 7.0\n",
    "2. Films with votes higher than 119,139 or 75% of our whole dataset\n",
    "3. Metascore above 61 (\"Generally Favourable Reviews\")"
   ]
  },
  {
   "cell_type": "code",
   "execution_count": 33,
   "metadata": {
    "scrolled": true
   },
   "outputs": [
    {
     "data": {
      "text/html": [
       "<div>\n",
       "<style scoped>\n",
       "    .dataframe tbody tr th:only-of-type {\n",
       "        vertical-align: middle;\n",
       "    }\n",
       "\n",
       "    .dataframe tbody tr th {\n",
       "        vertical-align: top;\n",
       "    }\n",
       "\n",
       "    .dataframe thead th {\n",
       "        text-align: right;\n",
       "    }\n",
       "</style>\n",
       "<table border=\"1\" class=\"dataframe\">\n",
       "  <thead>\n",
       "    <tr style=\"text-align: right;\">\n",
       "      <th></th>\n",
       "      <th>title</th>\n",
       "      <th>imdb rating</th>\n",
       "      <th>metascore</th>\n",
       "      <th>votes</th>\n",
       "    </tr>\n",
       "  </thead>\n",
       "  <tbody>\n",
       "    <tr>\n",
       "      <th>5</th>\n",
       "      <td>Encanto</td>\n",
       "      <td>7.3</td>\n",
       "      <td>75</td>\n",
       "      <td>147388</td>\n",
       "    </tr>\n",
       "    <tr>\n",
       "      <th>6</th>\n",
       "      <td>Spider-Man: No Way Home</td>\n",
       "      <td>8.7</td>\n",
       "      <td>71</td>\n",
       "      <td>468827</td>\n",
       "    </tr>\n",
       "    <tr>\n",
       "      <th>12</th>\n",
       "      <td>Dune: Part One</td>\n",
       "      <td>8.1</td>\n",
       "      <td>74</td>\n",
       "      <td>491260</td>\n",
       "    </tr>\n",
       "    <tr>\n",
       "      <th>19</th>\n",
       "      <td>The Last Duel</td>\n",
       "      <td>7.4</td>\n",
       "      <td>67</td>\n",
       "      <td>119954</td>\n",
       "    </tr>\n",
       "    <tr>\n",
       "      <th>28</th>\n",
       "      <td>Arcane: League of Legends</td>\n",
       "      <td>9.1</td>\n",
       "      <td>84</td>\n",
       "      <td>157809</td>\n",
       "    </tr>\n",
       "    <tr>\n",
       "      <th>30</th>\n",
       "      <td>No Time to Die</td>\n",
       "      <td>7.3</td>\n",
       "      <td>68</td>\n",
       "      <td>315552</td>\n",
       "    </tr>\n",
       "    <tr>\n",
       "      <th>38</th>\n",
       "      <td>The Suicide Squad</td>\n",
       "      <td>7.2</td>\n",
       "      <td>72</td>\n",
       "      <td>304819</td>\n",
       "    </tr>\n",
       "    <tr>\n",
       "      <th>40</th>\n",
       "      <td>Nobody</td>\n",
       "      <td>7.4</td>\n",
       "      <td>64</td>\n",
       "      <td>205697</td>\n",
       "    </tr>\n",
       "    <tr>\n",
       "      <th>43</th>\n",
       "      <td>Free Guy</td>\n",
       "      <td>7.2</td>\n",
       "      <td>62</td>\n",
       "      <td>283320</td>\n",
       "    </tr>\n",
       "    <tr>\n",
       "      <th>46</th>\n",
       "      <td>Ojing-eo geim</td>\n",
       "      <td>8.0</td>\n",
       "      <td>65</td>\n",
       "      <td>400761</td>\n",
       "    </tr>\n",
       "  </tbody>\n",
       "</table>\n",
       "</div>"
      ],
      "text/plain": [
       "                        title  imdb rating  metascore   votes\n",
       "5                     Encanto          7.3         75  147388\n",
       "6     Spider-Man: No Way Home          8.7         71  468827\n",
       "12             Dune: Part One          8.1         74  491260\n",
       "19              The Last Duel          7.4         67  119954\n",
       "28  Arcane: League of Legends          9.1         84  157809\n",
       "30             No Time to Die          7.3         68  315552\n",
       "38          The Suicide Squad          7.2         72  304819\n",
       "40                     Nobody          7.4         64  205697\n",
       "43                   Free Guy          7.2         62  283320\n",
       "46              Ojing-eo geim          8.0         65  400761"
      ]
     },
     "execution_count": 33,
     "metadata": {},
     "output_type": "execute_result"
    }
   ],
   "source": [
    "df[(df['imdb rating'] >= 7.0) & (df['votes'] > 119139) & (df['metascore'] > 61)]"
   ]
  },
  {
   "cell_type": "markdown",
   "metadata": {},
   "source": [
    "There are 10 films that met with our conditions.\n",
    "\n",
    "*Note: 'Ojing-eo geim' is the korean title for Squid Game, the extremely Netflix series that were released last year.*"
   ]
  },
  {
   "cell_type": "code",
   "execution_count": 37,
   "metadata": {},
   "outputs": [
    {
     "data": {
      "text/plain": [
       "<matplotlib.collections.PathCollection at 0x21a89cc5970>"
      ]
     },
     "execution_count": 37,
     "metadata": {},
     "output_type": "execute_result"
    },
    {
     "data": {
      "image/png": "[encoded data removed]",
      "text/plain": [
       "<Figure size 432x288 with 1 Axes>"
      ]
     },
     "metadata": {
      "needs_background": "light"
     },
     "output_type": "display_data"
    }
   ],
   "source": [
    "import matplotlib.pyplot as plt\n",
    "\n",
    "plt.scatter(df['metascore'], df['imdb rating'], s = 100, c = df['votes'], cmap = 'Greens')"
   ]
  }
 ],
 "metadata": {
  "kernelspec": {
   "display_name": "phoenix_da",
   "language": "python",
   "name": "phoenix_da"
  },
  "language_info": {
   "codemirror_mode": {
    "name": "ipython",
    "version": 3
   },
   "file_extension": ".py",
   "mimetype": "text/x-python",
   "name": "python",
   "nbconvert_exporter": "python",
   "pygments_lexer": "ipython3",
   "version": "3.8.12"
  }
 },
 "nbformat": 4,
 "nbformat_minor": 4
}
